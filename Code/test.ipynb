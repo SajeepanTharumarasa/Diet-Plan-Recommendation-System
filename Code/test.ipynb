{
 "cells": [
  {
   "cell_type": "code",
   "execution_count": 1,
   "metadata": {},
   "outputs": [],
   "source": [
    "from KG_retrever import csv_data_retrever\n",
    "\n",
    "# Select rows based on condition\n",
    "# df2 = df.query('Diet == \"Veg\" & Type == \"Weight Gain\" & Region == \"South Indian\" & Condition ==\"Cholesterol\"')\n",
    "\n",
    "# print(len(df2))\n",
    "\n",
    "diet = [\"Veg\", \"Non Veg\"]\n",
    "diet_goal = [\"Maintain\",\"Weight Gain\",\"Weight Loss\"]\n",
    "region = [\"North Indian\", \"South Indian\", \"Maharashtrian\"]\n",
    "condition = [\"None\",\"Diabetes\", \"Cholesterol\",\"Thyroid\"]\n",
    "cal_value = [1200,1300,1400,1500,1600,1700,1800,1900,2000,2100,2200,2300,2400]\n",
    "alergic = [\"None\", \"Milk\", \"Eggs\", \"Fish\", \"Peanuts\",\"Wheat\"]\n",
    "\n",
    "\n",
    "v=2000\n",
    "hist_array =[]\n",
    "applied_con =[]\n",
    "\n",
    "for d in diet:\n",
    "    for g in diet_goal:\n",
    "        for r in region:\n",
    "            for c in condition:\n",
    "                # for v in cal_value:\n",
    "                for a in alergic:\n",
    "                    try:\n",
    "                        x = csv_data_retrever(r, c , d, g, v, a)\n",
    "                        # print(r, c , d, g, v, a)\n",
    "\n",
    "                    except Exception as ex:\n",
    "                        print(ex)\n",
    "                        print(r, c , d, g, v, a)\n",
    "                        # curr_con = d[0]+g[0]+g[-1]+r[0]+c[0]+v[0]+a[0]\n",
    "                        \n",
    "\n",
    "               "
   ]
  },
  {
   "cell_type": "code",
   "execution_count": 5,
   "metadata": {},
   "outputs": [
    {
     "data": {
      "text/plain": [
       "(array([  2503.,  32292., 129916., 269926., 381125., 352716., 229329.,\n",
       "         92246.,  20367.,   1580.]),\n",
       " array([ 500.,  790., 1080., 1370., 1660., 1950., 2240., 2530., 2820.,\n",
       "        3110., 3400.]),\n",
       " <BarContainer object of 10 artists>)"
      ]
     },
     "execution_count": 5,
     "metadata": {},
     "output_type": "execute_result"
    },
    {
     "data": {
      "image/png": "[encoded data removed]",
      "text/plain": [
       "<Figure size 640x480 with 1 Axes>"
      ]
     },
     "metadata": {},
     "output_type": "display_data"
    }
   ],
   "source": [
    "from make_conditions import calculate_caloric_needs\n",
    "import matplotlib.pyplot as plt\n",
    "\n",
    "gender_class = [\"Male\",\"Female\"]\n",
    "\n",
    "cal_hist =[]\n",
    "for weight_kg in range(30,90):\n",
    "    for height_cm in range(110,170):\n",
    "        for w in diet_goal:\n",
    "            for age in range(20,90):\n",
    "                for gender in gender_class:\n",
    "                    activity_level = 'moderately_active'\n",
    "\n",
    "                    if w == \"Weight Loss\":\n",
    "                        weight_change_per_week = 0.7 # pounds\n",
    "                    elif w == \"Weight Gain\":\n",
    "                        weight_change_per_week = 0.5\n",
    "                    else:\n",
    "                        weight_change_per_week =0\n",
    "\n",
    "                    daily_calories_needed = calculate_caloric_needs(weight_kg, height_cm, age, gender, activity_level, w, weight_change_per_week)\n",
    "\n",
    "                    daily_need_calori = (daily_calories_needed//100+1)*100\n",
    "                    cal_hist.append(daily_need_calori)\n",
    "plt.hist(cal_hist)"
   ]
  }
 ],
 "metadata": {
  "kernelspec": {
   "display_name": "Python 3",
   "language": "python",
   "name": "python3"
  },
  "language_info": {
   "codemirror_mode": {
    "name": "ipython",
    "version": 3
   },
   "file_extension": ".py",
   "mimetype": "text/x-python",
   "name": "python",
   "nbconvert_exporter": "python",
   "pygments_lexer": "ipython3",
   "version": "3.9.0"
  }
 },
 "nbformat": 4,
 "nbformat_minor": 2
}
